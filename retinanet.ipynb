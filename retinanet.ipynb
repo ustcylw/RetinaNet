{
 "cells": [
  {
   "cell_type": "markdown",
   "id": "b820e37f-4fa9-4d4e-a46c-c3f0cf6660ff",
   "metadata": {},
   "source": [
    "# RetinaNet"
   ]
  },
  {
   "cell_type": "markdown",
   "id": "9637e6cf-80a6-48e2-a57d-bb396b2f7b19",
   "metadata": {},
   "source": [
    "refs:\n",
    "\n",
    "[RetinaNet(Focal Loss)](https://zhuanlan.zhihu.com/p/59910080)\n",
    "\n",
    "[focal loss理解与初始化偏置b设置解释](https://zhuanlan.zhihu.com/p/63626711)"
   ]
  },
  {
   "cell_type": "code",
   "execution_count": null,
   "id": "93a946f1-0067-49cc-ab9f-76c04ee7a5fd",
   "metadata": {},
   "outputs": [],
   "source": []
  }
 ],
 "metadata": {
  "kernelspec": {
   "display_name": "“autodrive”",
   "language": "python",
   "name": "autodrive"
  },
  "language_info": {
   "codemirror_mode": {
    "name": "ipython",
    "version": 3
   },
   "file_extension": ".py",
   "mimetype": "text/x-python",
   "name": "python",
   "nbconvert_exporter": "python",
   "pygments_lexer": "ipython3",
   "version": "3.8.12"
  }
 },
 "nbformat": 4,
 "nbformat_minor": 5
}
